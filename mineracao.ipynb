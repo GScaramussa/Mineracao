{
  "cells": [
    {
      "cell_type": "markdown",
      "id": "15e70353",
      "metadata": {
        "id": "15e70353"
      },
      "source": [
        "Adicionando o banco"
      ]
    },
    {
      "cell_type": "code",
      "source": [
        "import pandas as pd\n",
        "import numpy as np\n",
        "\n",
        "# Carregar o CSV\n",
        "raw_path = \"kendo_matches_work.csv\"\n",
        "df = pd.read_csv(raw_path)\n",
        "\n",
        "print(\"Shape original:\", df.shape)\n",
        "display(df.head())"
      ],
      "metadata": {
        "id": "04aNdkEamP-m"
      },
      "id": "04aNdkEamP-m",
      "execution_count": null,
      "outputs": []
    },
    {
      "cell_type": "code",
      "source": [
        "# Remover coluna-índice exportada por engano\n",
        "idx_cols = [c for c in df.columns if c.lower().startswith(\"unnamed\")]\n",
        "if idx_cols:\n",
        "    df = df.drop(columns=idx_cols)\n",
        "    print(f\"Removidas colunas de índice exportado: {idx_cols}\")"
      ],
      "metadata": {
        "id": "92kh2lfVmcO7"
      },
      "id": "92kh2lfVmcO7",
      "execution_count": null,
      "outputs": []
    },
    {
      "cell_type": "code",
      "metadata": {
        "id": "8804bae4"
      },
      "source": [
        "import matplotlib.pyplot as plt\n",
        "import seaborn as sns\n",
        "\n",
        "# Create a boxplot for the 'seconds_between' column\n",
        "plt.figure(figsize=(8, 6))\n",
        "sns.boxplot(x=df['seconds_between'])\n",
        "plt.title('Boxplot of Seconds Between Ippons')\n",
        "plt.xlabel('Seconds')\n",
        "plt.show()"
      ],
      "id": "8804bae4",
      "execution_count": null,
      "outputs": []
    },
    {
      "cell_type": "code",
      "source": [
        "# Padronização de tipos / mapeamento de valores\n",
        "# Colunas esperadas\n",
        "expected_cols = [\n",
        "    \"match_id\", \"ippon_number\", \"seconds_between\", \"ippon_taken\",\n",
        "    \"men\", \"kote\", \"do\", \"tsuki\"\n",
        "]\n",
        "\n",
        "# Verificar se todas existem (se faltar, acuse para evitar erro silencioso)\n",
        "missing = [c for c in expected_cols if c not in df.columns]\n",
        "if missing:\n",
        "    raise ValueError(f\"Colunas ausentes no CSV: {missing}\")"
      ],
      "metadata": {
        "id": "KQLZhtSVmrtH"
      },
      "id": "KQLZhtSVmrtH",
      "execution_count": null,
      "outputs": []
    },
    {
      "cell_type": "code",
      "source": [
        "# Remover espaços em branco em strings\n",
        "for col in df.select_dtypes(include=[\"object\"]).columns:\n",
        "    df[col] = df[col].astype(str).str.strip()"
      ],
      "metadata": {
        "id": "ZXkA_UX1rUVW"
      },
      "id": "ZXkA_UX1rUVW",
      "execution_count": null,
      "outputs": []
    },
    {
      "cell_type": "code",
      "source": [
        "# Mapeamento de strings comuns para binário\n",
        "# (O/o -> 0, I/l/| -> 1, yes/true/y -> 1, no/false/n -> 0)\n",
        "binary_map = {\n",
        "    \"o\": 0, \"O\": 0, \"0\": 0, \"no\": 0, \"false\": 0, \"n\": 0,\n",
        "    \"i\": 1, \"I\": 1, \"l\": 0, \"|\": 1, \"1\": 1, \"yes\": 1, \"true\": 1, \"y\": 1\n",
        "}\n"
      ],
      "metadata": {
        "id": "jMlXLtDGrgIV"
      },
      "id": "jMlXLtDGrgIV",
      "execution_count": null,
      "outputs": []
    },
    {
      "cell_type": "code",
      "execution_count": null,
      "id": "bba46ee6",
      "metadata": {
        "collapsed": true,
        "id": "bba46ee6"
      },
      "outputs": [],
      "source": [
        "bin_cols = [\"men\", \"kote\", \"do\", \"tsuki\", \"ippon_taken\"]\n",
        "\n",
        "for col in bin_cols:\n",
        "    # aplica mapeamento em valores de texto conhecidos\n",
        "    df[col] = df[col].replace(binary_map)\n",
        "    # convert to Int64 after replacement, coercing errors to NaN\n",
        "    df[col] = pd.to_numeric(df[col], errors=\"coerce\").astype('Int64')"
      ]
    },
    {
      "cell_type": "code",
      "source": [
        "# Convert all columns to numeric first, coercing errors to NaN\n",
        "for col in df.columns:\n",
        "    df[col] = pd.to_numeric(df[col], errors='coerce')\n",
        "\n",
        "# Now convert to Int64, which can handle NaNs\n",
        "for col in df.columns:\n",
        "    df[col] = df[col].astype('Int64')"
      ],
      "metadata": {
        "id": "0YDUS8YHr9o0"
      },
      "id": "0YDUS8YHr9o0",
      "execution_count": null,
      "outputs": []
    },
    {
      "cell_type": "code",
      "source": [
        "# Validar campos binários (0/1)\n",
        "# Qualquer valor que não seja 0 ou 1 nas colunas binárias será considerado erro -> NaN\n",
        "for col in bin_cols:\n",
        "    df.loc[~df[col].isin([0, 1]), col] = np.nan"
      ],
      "metadata": {
        "id": "nPaxpqH0rjx0"
      },
      "id": "nPaxpqH0rjx0",
      "execution_count": null,
      "outputs": []
    },
    {
      "cell_type": "code",
      "source": [
        "import matplotlib.pyplot as plt\n",
        "import seaborn as sns\n",
        "\n",
        "# Group by match_id and sum the strike counts\n",
        "strike_summary = df.groupby('match_id')[['men', 'kote', 'do', 'tsuki']].sum()\n",
        "\n",
        "# Create a stacked bar plot\n",
        "strike_summary.plot(kind='bar', stacked=True, figsize=(15, 7))\n",
        "\n",
        "plt.title('Distribution of Strikes per Match')\n",
        "plt.xlabel('Match ID')\n",
        "plt.ylabel('Number of Strikes')\n",
        "plt.xticks(rotation=45, ha='right')\n",
        "plt.tight_layout()\n",
        "plt.show()"
      ],
      "metadata": {
        "id": "1pn2aKqGz7qj"
      },
      "id": "1pn2aKqGz7qj",
      "execution_count": null,
      "outputs": []
    },
    {
      "cell_type": "code",
      "source": [
        "# Dropar linhas que possuem seconds_between maiores que 300s (tempo de partida)\n",
        "before_drop = df.shape[0]\n",
        "df = df[df['seconds_between'] <= 300].copy()\n",
        "after_drop = df.shape[0]\n",
        "\n",
        "print(f\"Número de linhas antes de remover: {before_drop}\")\n",
        "print(f\"Número de linhas depois de remover: {after_drop}\")"
      ],
      "metadata": {
        "id": "6ZNJ0aKFxDUk"
      },
      "id": "6ZNJ0aKFxDUk",
      "execution_count": null,
      "outputs": []
    },
    {
      "cell_type": "code",
      "source": [
        "# Dropar linhas duplicadas\n",
        "dup_before = df.shape[0]\n",
        "df = df.drop_duplicates().copy()\n",
        "dup_after = df.shape[0]\n",
        "\n",
        "print(f\"Número de linhas antes de dropar duplicadas: {dup_before}\")\n",
        "print(f\"Número de linhas depois de dropar duplicadas: {dup_after}\")"
      ],
      "metadata": {
        "id": "5TgfQPzT5F_u"
      },
      "id": "5TgfQPzT5F_u",
      "execution_count": null,
      "outputs": []
    },
    {
      "cell_type": "code",
      "source": [
        "# Retirar partidas que não possuem valor verdadeiro nos golpes\n",
        "# Criar uma máscara para identificar linhas onde a soma das colunas de golpe é 0 (ou NaN)\n",
        "strike_cols = [\"men\", \"kote\", \"do\", \"tsuki\"]\n",
        "# Check if the sum of strikes is 0 or NaN (assuming 1 for a valid strike)\n",
        "mask_no_strike = (df[strike_cols].sum(axis=1) == 0) | (df[strike_cols].sum(axis=1).isna())\n",
        "\n",
        "# Get the number of rows before dropping\n",
        "before_drop = df.shape[0]\n",
        "\n",
        "# Drop the rows where the mask is True\n",
        "df = df[~mask_no_strike].copy()\n",
        "\n",
        "# Get the number of rows after dropping\n",
        "after_drop = df.shape[0]\n",
        "\n",
        "print(f\"Número de linhas antes de remover: {before_drop}\")\n",
        "print(f\"Número de linhas depois de remover: {after_drop}\")\n",
        "\n",
        "display(df.head())"
      ],
      "metadata": {
        "id": "dL44SsOPwrGU"
      },
      "id": "dL44SsOPwrGU",
      "execution_count": null,
      "outputs": []
    },
    {
      "cell_type": "code",
      "source": [
        "import matplotlib.pyplot as plt\n",
        "import seaborn as sns\n",
        "\n",
        "# Group by match_id and sum the strike counts\n",
        "strike_summary = df.groupby('match_id')[['men', 'kote', 'do', 'tsuki']].sum()\n",
        "\n",
        "# Create a stacked bar plot\n",
        "strike_summary.plot(kind='bar', stacked=True, figsize=(15, 7))\n",
        "\n",
        "plt.title('Distribution of Strikes per Match')\n",
        "plt.xlabel('Match ID')\n",
        "plt.ylabel('Number of Strikes')\n",
        "plt.xticks(rotation=45, ha='right')\n",
        "plt.tight_layout()\n",
        "plt.show()"
      ],
      "metadata": {
        "collapsed": true,
        "id": "xjyCBXnmzrXX"
      },
      "id": "xjyCBXnmzrXX",
      "execution_count": null,
      "outputs": []
    },
    {
      "cell_type": "code",
      "source": [
        "# Salvar CSV limpo\n",
        "clean_path = \"kendo_matches_TRATADOS.csv\"\n",
        "df.to_csv(clean_path, index=False)\n",
        "print(f\"\\nArquivo salvo em: {clean_path}\")"
      ],
      "metadata": {
        "id": "Wl5Z3G5MrR3z"
      },
      "id": "Wl5Z3G5MrR3z",
      "execution_count": null,
      "outputs": []
    }
  ],
  "metadata": {
    "kernelspec": {
      "display_name": "Python 3",
      "language": "python",
      "name": "python3"
    },
    "language_info": {
      "codemirror_mode": {
        "name": "ipython",
        "version": 3
      },
      "file_extension": ".py",
      "mimetype": "text/x-python",
      "name": "python",
      "nbconvert_exporter": "python",
      "pygments_lexer": "ipython3",
      "version": "3.12.10"
    },
    "colab": {
      "provenance": []
    }
  },
  "nbformat": 4,
  "nbformat_minor": 5
}