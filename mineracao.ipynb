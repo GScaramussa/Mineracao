{
  "cells": [
    {
      "cell_type": "markdown",
      "id": "15e70353",
      "metadata": {
        "id": "15e70353"
      },
      "source": [
        "Adicionando o banco"
      ]
    },
    {
      "cell_type": "code",
      "execution_count": 79,
      "id": "04aNdkEamP-m",
      "metadata": {
        "id": "04aNdkEamP-m"
      },
      "outputs": [
        {
          "name": "stdout",
          "output_type": "stream",
          "text": [
            "Shape original: (202, 9)\n"
          ]
        },
        {
          "data": {
            "text/html": [
              "<div>\n",
              "<style scoped>\n",
              "    .dataframe tbody tr th:only-of-type {\n",
              "        vertical-align: middle;\n",
              "    }\n",
              "\n",
              "    .dataframe tbody tr th {\n",
              "        vertical-align: top;\n",
              "    }\n",
              "\n",
              "    .dataframe thead th {\n",
              "        text-align: right;\n",
              "    }\n",
              "</style>\n",
              "<table border=\"1\" class=\"dataframe\">\n",
              "  <thead>\n",
              "    <tr style=\"text-align: right;\">\n",
              "      <th></th>\n",
              "      <th>Unnamed: 0</th>\n",
              "      <th>match_id</th>\n",
              "      <th>ippon_number</th>\n",
              "      <th>seconds_between</th>\n",
              "      <th>ippon_taken</th>\n",
              "      <th>men</th>\n",
              "      <th>kote</th>\n",
              "      <th>do</th>\n",
              "      <th>tsuki</th>\n",
              "    </tr>\n",
              "  </thead>\n",
              "  <tbody>\n",
              "    <tr>\n",
              "      <th>0</th>\n",
              "      <td>1</td>\n",
              "      <td>1</td>\n",
              "      <td>1</td>\n",
              "      <td>1</td>\n",
              "      <td>0</td>\n",
              "      <td>1</td>\n",
              "      <td>0</td>\n",
              "      <td>0</td>\n",
              "      <td>0</td>\n",
              "    </tr>\n",
              "    <tr>\n",
              "      <th>1</th>\n",
              "      <td>2</td>\n",
              "      <td>1</td>\n",
              "      <td>2</td>\n",
              "      <td>5</td>\n",
              "      <td>1</td>\n",
              "      <td>0</td>\n",
              "      <td>1</td>\n",
              "      <td>0</td>\n",
              "      <td>0</td>\n",
              "    </tr>\n",
              "    <tr>\n",
              "      <th>2</th>\n",
              "      <td>3</td>\n",
              "      <td>2</td>\n",
              "      <td>1</td>\n",
              "      <td>10</td>\n",
              "      <td>0</td>\n",
              "      <td>0</td>\n",
              "      <td>1</td>\n",
              "      <td>0</td>\n",
              "      <td>0</td>\n",
              "    </tr>\n",
              "    <tr>\n",
              "      <th>3</th>\n",
              "      <td>4</td>\n",
              "      <td>2</td>\n",
              "      <td>2</td>\n",
              "      <td>48</td>\n",
              "      <td>0</td>\n",
              "      <td>1</td>\n",
              "      <td>0</td>\n",
              "      <td>0</td>\n",
              "      <td>0</td>\n",
              "    </tr>\n",
              "    <tr>\n",
              "      <th>4</th>\n",
              "      <td>5</td>\n",
              "      <td>3</td>\n",
              "      <td>1</td>\n",
              "      <td>38</td>\n",
              "      <td>0</td>\n",
              "      <td>1</td>\n",
              "      <td>0</td>\n",
              "      <td>0</td>\n",
              "      <td>0</td>\n",
              "    </tr>\n",
              "  </tbody>\n",
              "</table>\n",
              "</div>"
            ],
            "text/plain": [
              "   Unnamed: 0  match_id ippon_number  seconds_between  ippon_taken men kote  \\\n",
              "0           1         1            1                1            0   1    0   \n",
              "1           2         1            2                5            1   0    1   \n",
              "2           3         2            1               10            0   0    1   \n",
              "3           4         2            2               48            0   1    0   \n",
              "4           5         3            1               38            0   1    0   \n",
              "\n",
              "  do tsuki  \n",
              "0  0     0  \n",
              "1  0     0  \n",
              "2  0     0  \n",
              "3  0     0  \n",
              "4  0     0  "
            ]
          },
          "metadata": {},
          "output_type": "display_data"
        }
      ],
      "source": [
        "import pandas as pd\n",
        "import numpy as np\n",
        "\n",
        "# Carregar o CSV\n",
        "raw_path = \"kendo_matches_work.csv\"\n",
        "df = pd.read_csv(raw_path)\n",
        "\n",
        "print(\"Shape original:\", df.shape)\n",
        "display(df.head())"
      ]
    },
    {
      "cell_type": "code",
      "execution_count": 80,
      "id": "92kh2lfVmcO7",
      "metadata": {
        "id": "92kh2lfVmcO7"
      },
      "outputs": [
        {
          "name": "stdout",
          "output_type": "stream",
          "text": [
            "Removidas colunas de índice exportado: ['Unnamed: 0']\n"
          ]
        }
      ],
      "source": [
        "# Remover coluna-índice exportada por engano\n",
        "idx_cols = [c for c in df.columns if c.lower().startswith(\"unnamed\")]\n",
        "if idx_cols:\n",
        "    df = df.drop(columns=idx_cols)\n",
        "    print(f\"Removidas colunas de índice exportado: {idx_cols}\")"
      ]
    },
    {
      "cell_type": "code",
      "execution_count": 81,
      "id": "8804bae4",
      "metadata": {
        "id": "8804bae4"
      },
      "outputs": [
        {
          "data": {
            "image/png": "[encoded data removed]",
            "text/plain": [
              "<Figure size 800x600 with 1 Axes>"
            ]
          },
          "metadata": {},
          "output_type": "display_data"
        }
      ],
      "source": [
        "import matplotlib.pyplot as plt\n",
        "import seaborn as sns\n",
        "\n",
        "# Create a boxplot for the 'seconds_between' column\n",
        "plt.figure(figsize=(8, 6))\n",
        "sns.boxplot(x=df['seconds_between'])\n",
        "plt.title('Boxplot of Seconds Between Ippons')\n",
        "plt.xlabel('Seconds')\n",
        "plt.show()"
      ]
    },
    {
      "cell_type": "code",
      "execution_count": 82,
      "id": "KQLZhtSVmrtH",
      "metadata": {
        "id": "KQLZhtSVmrtH"
      },
      "outputs": [],
      "source": [
        "# Padronização de tipos / mapeamento de valores\n",
        "# Colunas esperadas\n",
        "expected_cols = [\n",
        "    \"match_id\", \"ippon_number\", \"seconds_between\", \"ippon_taken\",\n",
        "    \"men\", \"kote\", \"do\", \"tsuki\"\n",
        "]\n",
        "\n",
        "# Verificar se todas existem (se faltar, acuse para evitar erro silencioso)\n",
        "missing = [c for c in expected_cols if c not in df.columns]\n",
        "if missing:\n",
        "    raise ValueError(f\"Colunas ausentes no CSV: {missing}\")"
      ]
    },
    {
      "cell_type": "code",
      "execution_count": 83,
      "id": "ZXkA_UX1rUVW",
      "metadata": {
        "id": "ZXkA_UX1rUVW"
      },
      "outputs": [],
      "source": [
        "# Remover espaços em branco em strings\n",
        "for col in df.select_dtypes(include=[\"object\"]).columns:\n",
        "    df[col] = df[col].astype(str).str.strip()"
      ]
    },
    {
      "cell_type": "code",
      "execution_count": 84,
      "id": "jMlXLtDGrgIV",
      "metadata": {
        "id": "jMlXLtDGrgIV"
      },
      "outputs": [],
      "source": [
        "# Mapeamento de strings comuns para binário\n",
        "# (O/o -> 0, I/l/| -> 1, yes/true/y -> 1, no/false/n -> 0)\n",
        "binary_map = {\n",
        "    \"o\": 0, \"O\": 0, \"0\": 0, \"no\": 0, \"false\": 0, \"n\": 0,\n",
        "    \"i\": 1, \"I\": 1, \"l\": 0, \"|\": 1, \"1\": 1, \"yes\": 1, \"true\": 1, \"y\": 1\n",
        "}\n"
      ]
    },
    {
      "cell_type": "code",
      "execution_count": 85,
      "id": "bba46ee6",
      "metadata": {
        "collapsed": true,
        "id": "bba46ee6"
      },
      "outputs": [
        {
          "name": "stderr",
          "output_type": "stream",
          "text": [
            "C:\\Users\\biels\\AppData\\Local\\Temp\\ipykernel_14840\\728424066.py:5: FutureWarning: Downcasting behavior in `replace` is deprecated and will be removed in a future version. To retain the old behavior, explicitly call `result.infer_objects(copy=False)`. To opt-in to the future behavior, set `pd.set_option('future.no_silent_downcasting', True)`\n",
            "  df[col] = df[col].replace(binary_map)\n"
          ]
        }
      ],
      "source": [
        "bin_cols = [\"men\", \"kote\", \"do\", \"tsuki\", \"ippon_taken\"]\n",
        "\n",
        "for col in bin_cols:\n",
        "    # aplica mapeamento em valores de texto conhecidos\n",
        "    df[col] = df[col].replace(binary_map)\n",
        "    # convert to Int64 after replacement, coercing errors to NaN\n",
        "    df[col] = pd.to_numeric(df[col], errors=\"coerce\").astype('Int64')"
      ]
    },
    {
      "cell_type": "code",
      "execution_count": 86,
      "id": "0YDUS8YHr9o0",
      "metadata": {
        "id": "0YDUS8YHr9o0"
      },
      "outputs": [],
      "source": [
        "# Convert all columns to numeric first, coercing errors to NaN\n",
        "for col in df.columns:\n",
        "    df[col] = pd.to_numeric(df[col], errors='coerce')\n",
        "\n",
        "# Now convert to Int64, which can handle NaNs\n",
        "for col in df.columns:\n",
        "    df[col] = df[col].astype('Int64')"
      ]
    },
    {
      "cell_type": "code",
      "execution_count": 87,
      "id": "nPaxpqH0rjx0",
      "metadata": {
        "id": "nPaxpqH0rjx0"
      },
      "outputs": [],
      "source": [
        "# Validar campos binários (0/1)\n",
        "# Qualquer valor que não seja 0 ou 1 nas colunas binárias será considerado erro -> NaN\n",
        "for col in bin_cols:\n",
        "    df.loc[~df[col].isin([0, 1]), col] = np.nan"
      ]
    },
    {
      "cell_type": "code",
      "execution_count": 88,
      "id": "1pn2aKqGz7qj",
      "metadata": {
        "id": "1pn2aKqGz7qj"
      },
      "outputs": [
        {
          "data": {
            "image/png": "[encoded data removed]",
            "text/plain": [
              "<Figure size 1500x700 with 1 Axes>"
            ]
          },
          "metadata": {},
          "output_type": "display_data"
        }
      ],
      "source": [
        "import matplotlib.pyplot as plt\n",
        "import seaborn as sns\n",
        "\n",
        "# Group by match_id and sum the strike counts\n",
        "strike_summary = df.groupby('match_id')[['men', 'kote', 'do', 'tsuki']].sum()\n",
        "\n",
        "# Create a stacked bar plot\n",
        "strike_summary.plot(kind='bar', stacked=True, figsize=(15, 7))\n",
        "\n",
        "plt.title('Distribution of Strikes per Match')\n",
        "plt.xlabel('Match ID')\n",
        "plt.ylabel('Number of Strikes')\n",
        "plt.xticks(rotation=45, ha='right')\n",
        "plt.tight_layout()\n",
        "plt.show()"
      ]
    },
    {
      "cell_type": "code",
      "execution_count": 89,
      "id": "6ZNJ0aKFxDUk",
      "metadata": {
        "id": "6ZNJ0aKFxDUk"
      },
      "outputs": [
        {
          "name": "stdout",
          "output_type": "stream",
          "text": [
            "Número de linhas antes de remover: 202\n",
            "Número de linhas depois de remover: 201\n"
          ]
        }
      ],
      "source": [
        "# Dropar linhas que possuem seconds_between maiores que 300s (tempo de partida)\n",
        "before_drop = df.shape[0]\n",
        "df = df[df['seconds_between'] <= 300].copy()\n",
        "after_drop = df.shape[0]\n",
        "\n",
        "print(f\"Número de linhas antes de remover: {before_drop}\")\n",
        "print(f\"Número de linhas depois de remover: {after_drop}\")"
      ]
    },
    {
      "cell_type": "code",
      "execution_count": 90,
      "id": "5TgfQPzT5F_u",
      "metadata": {
        "id": "5TgfQPzT5F_u"
      },
      "outputs": [
        {
          "name": "stdout",
          "output_type": "stream",
          "text": [
            "Número de linhas antes de dropar duplicadas: 201\n",
            "Número de linhas depois de dropar duplicadas: 200\n"
          ]
        }
      ],
      "source": [
        "# Dropar linhas duplicadas\n",
        "dup_before = df.shape[0]\n",
        "df = df.drop_duplicates().copy()\n",
        "dup_after = df.shape[0]\n",
        "\n",
        "print(f\"Número de linhas antes de dropar duplicadas: {dup_before}\")\n",
        "print(f\"Número de linhas depois de dropar duplicadas: {dup_after}\")"
      ]
    },
    {
      "cell_type": "code",
      "execution_count": 91,
      "id": "dL44SsOPwrGU",
      "metadata": {
        "id": "dL44SsOPwrGU"
      },
      "outputs": [
        {
          "name": "stdout",
          "output_type": "stream",
          "text": [
            "Número de linhas antes de remover: 200\n",
            "Número de linhas depois de remover: 198\n"
          ]
        },
        {
          "data": {
            "text/html": [
              "<div>\n",
              "<style scoped>\n",
              "    .dataframe tbody tr th:only-of-type {\n",
              "        vertical-align: middle;\n",
              "    }\n",
              "\n",
              "    .dataframe tbody tr th {\n",
              "        vertical-align: top;\n",
              "    }\n",
              "\n",
              "    .dataframe thead th {\n",
              "        text-align: right;\n",
              "    }\n",
              "</style>\n",
              "<table border=\"1\" class=\"dataframe\">\n",
              "  <thead>\n",
              "    <tr style=\"text-align: right;\">\n",
              "      <th></th>\n",
              "      <th>match_id</th>\n",
              "      <th>ippon_number</th>\n",
              "      <th>seconds_between</th>\n",
              "      <th>ippon_taken</th>\n",
              "      <th>men</th>\n",
              "      <th>kote</th>\n",
              "      <th>do</th>\n",
              "      <th>tsuki</th>\n",
              "    </tr>\n",
              "  </thead>\n",
              "  <tbody>\n",
              "    <tr>\n",
              "      <th>0</th>\n",
              "      <td>1</td>\n",
              "      <td>1</td>\n",
              "      <td>1</td>\n",
              "      <td>0</td>\n",
              "      <td>1</td>\n",
              "      <td>0</td>\n",
              "      <td>0</td>\n",
              "      <td>0</td>\n",
              "    </tr>\n",
              "    <tr>\n",
              "      <th>1</th>\n",
              "      <td>1</td>\n",
              "      <td>2</td>\n",
              "      <td>5</td>\n",
              "      <td>1</td>\n",
              "      <td>0</td>\n",
              "      <td>1</td>\n",
              "      <td>0</td>\n",
              "      <td>0</td>\n",
              "    </tr>\n",
              "    <tr>\n",
              "      <th>2</th>\n",
              "      <td>2</td>\n",
              "      <td>1</td>\n",
              "      <td>10</td>\n",
              "      <td>0</td>\n",
              "      <td>0</td>\n",
              "      <td>1</td>\n",
              "      <td>0</td>\n",
              "      <td>0</td>\n",
              "    </tr>\n",
              "    <tr>\n",
              "      <th>3</th>\n",
              "      <td>2</td>\n",
              "      <td>2</td>\n",
              "      <td>48</td>\n",
              "      <td>0</td>\n",
              "      <td>1</td>\n",
              "      <td>0</td>\n",
              "      <td>0</td>\n",
              "      <td>0</td>\n",
              "    </tr>\n",
              "    <tr>\n",
              "      <th>4</th>\n",
              "      <td>3</td>\n",
              "      <td>1</td>\n",
              "      <td>38</td>\n",
              "      <td>0</td>\n",
              "      <td>1</td>\n",
              "      <td>0</td>\n",
              "      <td>0</td>\n",
              "      <td>0</td>\n",
              "    </tr>\n",
              "  </tbody>\n",
              "</table>\n",
              "</div>"
            ],
            "text/plain": [
              "   match_id  ippon_number  seconds_between  ippon_taken  men  kote  do  tsuki\n",
              "0         1             1                1            0    1     0   0      0\n",
              "1         1             2                5            1    0     1   0      0\n",
              "2         2             1               10            0    0     1   0      0\n",
              "3         2             2               48            0    1     0   0      0\n",
              "4         3             1               38            0    1     0   0      0"
            ]
          },
          "metadata": {},
          "output_type": "display_data"
        }
      ],
      "source": [
        "# Retirar partidas que não possuem valor verdadeiro nos golpes\n",
        "# Criar uma máscara para identificar linhas onde a soma das colunas de golpe é 0 (ou NaN)\n",
        "strike_cols = [\"men\", \"kote\", \"do\", \"tsuki\"]\n",
        "# Check if the sum of strikes is 0 or NaN (assuming 1 for a valid strike)\n",
        "mask_no_strike = (df[strike_cols].sum(axis=1) == 0) | (df[strike_cols].sum(axis=1).isna())\n",
        "\n",
        "# Get the number of rows before dropping\n",
        "before_drop = df.shape[0]\n",
        "\n",
        "# Drop the rows where the mask is True\n",
        "df = df[~mask_no_strike].copy()\n",
        "\n",
        "# Get the number of rows after dropping\n",
        "after_drop = df.shape[0]\n",
        "\n",
        "print(f\"Número de linhas antes de remover: {before_drop}\")\n",
        "print(f\"Número de linhas depois de remover: {after_drop}\")\n",
        "\n",
        "display(df.head())"
      ]
    },
    {
      "cell_type": "code",
      "execution_count": 92,
      "id": "xjyCBXnmzrXX",
      "metadata": {
        "collapsed": true,
        "id": "xjyCBXnmzrXX"
      },
      "outputs": [
        {
          "data": {
            "image/png": "[encoded data removed]",
            "text/plain": [
              "<Figure size 1500x700 with 1 Axes>"
            ]
          },
          "metadata": {},
          "output_type": "display_data"
        }
      ],
      "source": [
        "import matplotlib.pyplot as plt\n",
        "import seaborn as sns\n",
        "\n",
        "# Group by match_id and sum the strike counts\n",
        "strike_summary = df.groupby('match_id')[['men', 'kote', 'do', 'tsuki']].sum()\n",
        "\n",
        "# Create a stacked bar plot\n",
        "strike_summary.plot(kind='bar', stacked=True, figsize=(15, 7))\n",
        "\n",
        "plt.title('Distribution of Strikes per Match')\n",
        "plt.xlabel('Match ID')\n",
        "plt.ylabel('Number of Strikes')\n",
        "plt.xticks(rotation=45, ha='right')\n",
        "plt.tight_layout()\n",
        "plt.show()"
      ]
    },
    {
      "cell_type": "code",
      "execution_count": 93,
      "id": "Wl5Z3G5MrR3z",
      "metadata": {
        "id": "Wl5Z3G5MrR3z"
      },
      "outputs": [
        {
          "name": "stdout",
          "output_type": "stream",
          "text": [
            "\n",
            "Arquivo salvo em: kendo_matches_TRATADOS.csv\n"
          ]
        }
      ],
      "source": [
        "# Salvar CSV limpo\n",
        "clean_path = \"kendo_matches_TRATADOS.csv\"\n",
        "df.to_csv(clean_path, index=False)\n",
        "print(f\"\\nArquivo salvo em: {clean_path}\")"
      ]
    },
    {
      "cell_type": "markdown",
      "id": "8a457706",
      "metadata": {},
      "source": [
        "MINEIRANDO UHUUU"
      ]
    },
    {
      "cell_type": "markdown",
      "id": "f0c2706d",
      "metadata": {},
      "source": [
        "P1"
      ]
    },
    {
      "cell_type": "code",
      "execution_count": 98,
      "id": "2bc58b2f",
      "metadata": {},
      "outputs": [
        {
          "name": "stdout",
          "output_type": "stream",
          "text": [
            "Regras com confiança > 90%:\n",
            "               antecedents            consequents   support  confidence  \\\n",
            "0                    (men)               (kote_0)  0.469697         1.0   \n",
            "1                    (men)                 (do_0)  0.469697         1.0   \n",
            "2                    (men)              (tsuki_0)  0.469697         1.0   \n",
            "3                   (kote)                (men_0)  0.313131         1.0   \n",
            "4                   (kote)                 (do_0)  0.313131         1.0   \n",
            "..                     ...                    ...       ...         ...   \n",
            "81  (kote_0, men_0, tsuki)                 (do_0)  0.050505         1.0   \n",
            "82           (do_0, tsuki)        (kote_0, men_0)  0.050505         1.0   \n",
            "83         (kote_0, tsuki)          (do_0, men_0)  0.050505         1.0   \n",
            "84          (men_0, tsuki)         (do_0, kote_0)  0.050505         1.0   \n",
            "85                 (tsuki)  (do_0, kote_0, men_0)  0.050505         1.0   \n",
            "\n",
            "         lift  \n",
            "0    1.455882  \n",
            "1    1.200000  \n",
            "2    1.053191  \n",
            "3    1.885714  \n",
            "4    1.200000  \n",
            "..        ...  \n",
            "81   1.200000  \n",
            "82   4.604651  \n",
            "83   2.750000  \n",
            "84   1.922330  \n",
            "85  19.800000  \n",
            "\n",
            "[76 rows x 5 columns]\n"
          ]
        },
        {
          "name": "stderr",
          "output_type": "stream",
          "text": [
            "C:\\Users\\biels\\AppData\\Local\\Temp\\ipykernel_14840\\3721501017.py:15: FutureWarning: DataFrame.applymap has been deprecated. Use DataFrame.map instead.\n",
            "  df_bin = df[golpes_cols].applymap(lambda x: 1 if x >= 1 else 0)\n",
            "C:\\Users\\biels\\AppData\\Local\\Packages\\PythonSoftwareFoundation.Python.3.12_qbz5n2kfra8p0\\LocalCache\\local-packages\\Python312\\site-packages\\mlxtend\\frequent_patterns\\fpcommon.py:161: DeprecationWarning: DataFrames with non-bool types result in worse computationalperformance and their support might be discontinued in the future.Please use a DataFrame with bool type\n",
            "  warnings.warn(\n"
          ]
        }
      ],
      "source": [
        "# ==============================\n",
        "# P1 - Golpe que implica no NÃO uso de outro golpe\n",
        "# ==============================\n",
        "\n",
        "import pandas as pd\n",
        "from mlxtend.frequent_patterns import apriori, association_rules\n",
        "\n",
        "# Carrega o dataset tratado\n",
        "df = pd.read_csv(\"kendo_matches_TRATADOS.csv\")\n",
        "\n",
        "# Seleciona apenas colunas de golpes (ajuste se tiver nomes diferentes)\n",
        "golpes_cols = [\"men\", \"kote\", \"do\", \"tsuki\"]\n",
        "\n",
        "# Garante binarização: 1 = golpe usado, 0 = não usado\n",
        "df_bin = df[golpes_cols].applymap(lambda x: 1 if x >= 1 else 0)\n",
        "\n",
        "# Cria colunas de \"não uso\" (ex: Men_0 significa que o golpe NÃO foi usado)\n",
        "for col in golpes_cols:\n",
        "    df_bin[col + \"_0\"] = 1 - df_bin[col]\n",
        "\n",
        "# Aplica Apriori para encontrar conjuntos frequentes\n",
        "frequent_itemsets = apriori(df_bin, min_support=0.05, use_colnames=True)\n",
        "\n",
        "# Gera regras de associação\n",
        "rules = association_rules(frequent_itemsets, metric=\"confidence\", min_threshold=0.9)\n",
        "\n",
        "# Filtra regras da forma: golpe usado -> golpe não usado\n",
        "rules_p1 = rules[\n",
        "    (rules['confidence'] > 0.9) &\n",
        "    (rules['antecedents'].apply(lambda x: any(item in golpes_cols for item in x))) &\n",
        "    (rules['consequents'].apply(lambda x: any(\"_0\" in item for item in x)))\n",
        "]\n",
        "\n",
        "print(\"Regras com confiança > 90%:\")\n",
        "print(rules_p1[['antecedents', 'consequents', 'support', 'confidence', 'lift']])\n"
      ]
    },
    {
      "cell_type": "markdown",
      "id": "5e4af290",
      "metadata": {},
      "source": [
        "P2"
      ]
    },
    {
      "cell_type": "code",
      "execution_count": 102,
      "id": "f324026d",
      "metadata": {},
      "outputs": [
        {
          "name": "stdout",
          "output_type": "stream",
          "text": [
            "\n",
            "Regra avaliada:  { Men = 1 }  ->  { ippon_taken = 1 }\n",
            "Confiança: 0.4516  (P(ippon_taken=1 | Men=1))\n",
            "Suporte da regra: 0.2121\n",
            "Suporte antecedente (Men=1): 0.4697\n",
            "Suporte consequente (ippon_taken=1): 0.4394\n",
            "Lift: 1.0278\n"
          ]
        }
      ],
      "source": [
        "# ==============================\n",
        "# P2 - Confiança da regra: Men=1 -> ippon_taken=1\n",
        "# ==============================\n",
        "\n",
        "import pandas as pd\n",
        "import numpy as np\n",
        "\n",
        "# Carrega o dataset tratado\n",
        "df = pd.read_csv(\"kendo_matches_TRATADOS.csv\")\n",
        "\n",
        "# --- Seleção direta das colunas ---\n",
        "# Ajuste os nomes se no seu CSV forem diferentes\n",
        "men = df[\"men\"].fillna(0).astype(int)\n",
        "ippon_taken = df[\"ippon_taken\"].fillna(0).astype(int)\n",
        "\n",
        "# Binariza: 1 se aplicou pelo menos 1 MEN, 0 caso contrário\n",
        "men = (men >= 1).astype(int)\n",
        "\n",
        "# Binariza: 1 se levou ippon, 0 caso contrário\n",
        "ippon_taken = (ippon_taken >= 1).astype(int)\n",
        "\n",
        "# ---------- Métricas ----------\n",
        "n = len(df)\n",
        "antecedent_count = (men == 1).sum()\n",
        "both_count = ((men == 1) & (ippon_taken == 1)).sum()\n",
        "consequent_count = (ippon_taken == 1).sum()\n",
        "\n",
        "confidence = both_count / antecedent_count if antecedent_count > 0 else np.nan\n",
        "support_rule = both_count / n\n",
        "support_antecedent = antecedent_count / n\n",
        "support_consequent = consequent_count / n\n",
        "lift = confidence / support_consequent if support_consequent > 0 else np.nan\n",
        "\n",
        "# ---------- Saída ----------\n",
        "print(\"\\nRegra avaliada:  { Men = 1 }  ->  { ippon_taken = 1 }\")\n",
        "print(f\"Confiança: {confidence:.4f}  (P(ippon_taken=1 | Men=1))\")\n",
        "print(f\"Suporte da regra: {support_rule:.4f}\")\n",
        "print(f\"Suporte antecedente (Men=1): {support_antecedent:.4f}\")\n",
        "print(f\"Suporte consequente (ippon_taken=1): {support_consequent:.4f}\")\n",
        "print(f\"Lift: {lift:.4f}\")\n"
      ]
    },
    {
      "cell_type": "markdown",
      "id": "050fde3b",
      "metadata": {},
      "source": [
        "P3"
      ]
    },
    {
      "cell_type": "code",
      "execution_count": 103,
      "id": "ad9f634d",
      "metadata": {},
      "outputs": [
        {
          "name": "stdout",
          "output_type": "stream",
          "text": [
            "Golpes com confiança > 85% (seconds_between > 25):\n",
            "Empty DataFrame\n",
            "Columns: [golpe, confianca, suporte_regra, lift, total_golpe]\n",
            "Index: []\n",
            "\n",
            "Todas as métricas (ordenado por confiança):\n",
            "   golpe  confianca  suporte_regra      lift  total_golpe\n",
            "3  tsuki   0.700000       0.035354  1.372277           10\n",
            "2     do   0.545455       0.090909  1.069307           33\n",
            "0    men   0.537634       0.252525  1.053976           93\n",
            "1   kote   0.419355       0.131313  0.822102           62\n"
          ]
        }
      ],
      "source": [
        "# ==============================\n",
        "# P3 - Golpes com >85% de confiança de ocorrerem >25s após o 1º golpe\n",
        "# Usando a coluna: seconds_between\n",
        "# ==============================\n",
        "\n",
        "import pandas as pd\n",
        "import numpy as np\n",
        "\n",
        "df = pd.read_csv(\"kendo_matches_TRATADOS.csv\")\n",
        "\n",
        "# Colunas dos golpes (em minúsculas)\n",
        "golpes_cols = [\"men\", \"kote\", \"do\", \"tsuki\"]\n",
        "\n",
        "# Binariza golpes: 1 se ocorreu (>=1), 0 caso contrário\n",
        "df_bin = (df[golpes_cols].fillna(0).astype(float) >= 1).astype(int)\n",
        "\n",
        "# Condição alvo: intervalo entre 1º e 2º golpe > 25s\n",
        "seconds_between = pd.to_numeric(df[\"seconds_between\"], errors=\"coerce\")\n",
        "cond_apos25 = (seconds_between > 25)\n",
        "\n",
        "# Calcula confiança por golpe: P(seconds_between>25 | golpe=1)\n",
        "resultados = []\n",
        "n = len(df)\n",
        "sup_conseq = cond_apos25.mean()  # P(cond)\n",
        "\n",
        "for g in golpes_cols:\n",
        "    antecedente = df_bin[g] == 1\n",
        "    a = antecedente.sum()\n",
        "    if a == 0:\n",
        "        conf = np.nan\n",
        "        sup_rule = np.nan\n",
        "        lift = np.nan\n",
        "    else:\n",
        "        both = (antecedente & cond_apos25).sum()\n",
        "        conf = both / a\n",
        "        sup_rule = both / n\n",
        "        lift = conf / sup_conseq if sup_conseq > 0 else np.nan\n",
        "\n",
        "    resultados.append({\n",
        "        \"golpe\": g,\n",
        "        \"confianca\": conf,\n",
        "        \"suporte_regra\": sup_rule,\n",
        "        \"lift\": lift,\n",
        "        \"total_golpe\": a\n",
        "    })\n",
        "\n",
        "res = pd.DataFrame(resultados).sort_values(\"confianca\", ascending=False)\n",
        "\n",
        "# Filtra e exibe golpes com confiança > 85%\n",
        "print(\"Golpes com confiança > 85% (seconds_between > 25):\")\n",
        "print(res[res[\"confianca\"] > 0.85])\n",
        "\n",
        "print(\"\\nTodas as métricas (ordenado por confiança):\")\n",
        "print(res)\n"
      ]
    }
  ],
  "metadata": {
    "colab": {
      "provenance": []
    },
    "kernelspec": {
      "display_name": "Python 3",
      "language": "python",
      "name": "python3"
    },
    "language_info": {
      "codemirror_mode": {
        "name": "ipython",
        "version": 3
      },
      "file_extension": ".py",
      "mimetype": "text/x-python",
      "name": "python",
      "nbconvert_exporter": "python",
      "pygments_lexer": "ipython3",
      "version": "3.12.10"
    }
  },
  "nbformat": 4,
  "nbformat_minor": 5
}
